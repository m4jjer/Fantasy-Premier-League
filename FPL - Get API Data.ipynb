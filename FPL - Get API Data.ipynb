{
 "cells": [
  {
   "cell_type": "code",
   "execution_count": 73,
   "id": "89663911",
   "metadata": {},
   "outputs": [],
   "source": [
    "import requests\n",
    "import pandas as pd\n",
    "from pathlib import Path"
   ]
  },
  {
   "cell_type": "code",
   "execution_count": 74,
   "id": "d129674c",
   "metadata": {},
   "outputs": [],
   "source": [
    "base_url = 'https://fantasy.premierleague.com/api/bootstrap-static/'\n",
    "returned_data = requests.get(base_url)\n",
    "data = returned_data.json()\n",
    "players = data['elements']\n",
    "folder = Path(r\"C:\\Users\\mjord\\OneDrive\\FPL\\FPL Extracts\\25-26\")\n",
    "folder2 = folder / \"player_data\""
   ]
  },
  {
   "cell_type": "code",
   "execution_count": 75,
   "id": "c73a429f",
   "metadata": {},
   "outputs": [],
   "source": [
    "teams = data['teams']\n",
    "teams_df = pd.DataFrame(teams)[['id', 'short_name']]\n",
    "teams_df.rename(columns={\"short_name\" : \"team\"}, inplace=True)\n",
    "teams_df.to_csv(folder / \"teams.csv\", index=False)"
   ]
  },
  {
   "cell_type": "code",
   "execution_count": 76,
   "id": "a5bd9a29",
   "metadata": {},
   "outputs": [],
   "source": [
    "positions = data['element_types']\n",
    "pos_df = pd.DataFrame(positions)[['id', 'plural_name_short']]\n",
    "pos_df.rename(columns={\"plural_name_short\" : \"position\"}, inplace=True)\n",
    "pos_df.to_csv(folder / \"positions.csv\", index=False)"
   ]
  },
  {
   "cell_type": "code",
   "execution_count": 77,
   "id": "57ac6229",
   "metadata": {},
   "outputs": [],
   "source": [
    "events = data['events']\n",
    "events_df = pd.DataFrame(events)[['id', 'name', 'deadline_time']]\n",
    "events_df.rename(columns={\"name\" : \"gameweek\", \"deadline_time\" : \"deadline\"}, inplace=True)\n",
    "events_df.to_csv(folder / \"events.csv\", index=False)"
   ]
  },
  {
   "cell_type": "code",
   "execution_count": 78,
   "id": "8ce83ac0",
   "metadata": {},
   "outputs": [],
   "source": [
    "player_url = 'https://fantasy.premierleague.com/api/element-summary/'\n",
    "id_list = [player[\"id\"] for player in players]\n",
    "for x in id_list:\n",
    "    url = player_url + str(x)\n",
    "    filename = folder2 / f\"{x}.csv\"\n",
    "    individual_players = requests.get(url)\n",
    "    player_data = individual_players.json()\n",
    "    use_this = player_data['history']\n",
    "    player_df = pd.DataFrame(use_this)\n",
    "    player_df.to_csv(filename, index=False)"
   ]
  }
 ],
 "metadata": {
  "kernelspec": {
   "display_name": "Python 3",
   "language": "python",
   "name": "python3"
  },
  "language_info": {
   "codemirror_mode": {
    "name": "ipython",
    "version": 3
   },
   "file_extension": ".py",
   "mimetype": "text/x-python",
   "name": "python",
   "nbconvert_exporter": "python",
   "pygments_lexer": "ipython3",
   "version": "3.13.3"
  }
 },
 "nbformat": 4,
 "nbformat_minor": 5
}
